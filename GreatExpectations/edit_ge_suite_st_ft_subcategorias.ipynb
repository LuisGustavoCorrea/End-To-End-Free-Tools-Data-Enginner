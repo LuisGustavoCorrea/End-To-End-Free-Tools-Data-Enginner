{
 "cells": [
  {
   "cell_type": "markdown",
   "id": "4096359a",
   "metadata": {},
   "source": [
    "# Edit Your Expectation Suite\n",
    "Use this notebook to recreate and modify your expectation suite:\n",
    "\n",
    "**Expectation Suite Name**: `ge_suite_st_ft_subcategorias`"
   ]
  },
  {
   "cell_type": "code",
   "execution_count": 12,
   "id": "79eefd6b",
   "metadata": {},
   "outputs": [
    {
     "name": "stdout",
     "output_type": "stream",
     "text": [
      "2024-01-17T17:53:59+0000 - INFO - FileDataContext loading fluent config\n",
      "2024-01-17T17:53:59+0000 - INFO - Loading 'datasources' ->\n",
      "[]\n",
      "Loaded ExpectationSuite \"ge_suite_st_ft_subcategorias\" containing 5 expectations.\n"
     ]
    },
    {
     "data": {
      "application/vnd.jupyter.widget-view+json": {
       "model_id": "f7be6463dbad4e58a51ba35113121b2e",
       "version_major": 2,
       "version_minor": 0
      },
      "text/plain": [
       "Calculating Metrics:   0%|          | 0/2 [00:00<?, ?it/s]"
      ]
     },
     "metadata": {},
     "output_type": "display_data"
    },
    {
     "name": "stdout",
     "output_type": "stream",
     "text": [
      "Columns: \"id_subcategoria\", \"nome_subcategoria\", \"id_categoria\", \"_airbyte_ab_id\", \"_airbyte_emitted_at\", \"_airbyte_normalized_at\", \"_airbyte_st_ft_subcategorias_hashid\".\n"
     ]
    },
    {
     "data": {
      "application/vnd.jupyter.widget-view+json": {
       "model_id": "70eb4afcfb7245318602d4bbc62338d5",
       "version_major": 2,
       "version_minor": 0
      },
      "text/plain": [
       "Calculating Metrics:   0%|          | 0/1 [00:00<?, ?it/s]"
      ]
     },
     "metadata": {},
     "output_type": "display_data"
    },
    {
     "data": {
      "text/html": [
       "<div>\n",
       "<style scoped>\n",
       "    .dataframe tbody tr th:only-of-type {\n",
       "        vertical-align: middle;\n",
       "    }\n",
       "\n",
       "    .dataframe tbody tr th {\n",
       "        vertical-align: top;\n",
       "    }\n",
       "\n",
       "    .dataframe thead th {\n",
       "        text-align: right;\n",
       "    }\n",
       "</style>\n",
       "<table border=\"1\" class=\"dataframe\">\n",
       "  <thead>\n",
       "    <tr style=\"text-align: right;\">\n",
       "      <th></th>\n",
       "      <th>id_subcategoria</th>\n",
       "      <th>nome_subcategoria</th>\n",
       "      <th>id_categoria</th>\n",
       "      <th>_airbyte_ab_id</th>\n",
       "      <th>_airbyte_emitted_at</th>\n",
       "      <th>_airbyte_normalized_at</th>\n",
       "      <th>_airbyte_st_ft_subcategorias_hashid</th>\n",
       "    </tr>\n",
       "  </thead>\n",
       "  <tbody>\n",
       "    <tr>\n",
       "      <th>0</th>\n",
       "      <td>1.0</td>\n",
       "      <td>Notebook</td>\n",
       "      <td>1.0</td>\n",
       "      <td>a893ac31-8b59-4fec-bf14-62bfd247ed34</td>\n",
       "      <td>2024-01-17 17:46:04.102000+00:00</td>\n",
       "      <td>2024-01-17 17:46:42.729274+00:00</td>\n",
       "      <td>268b401d8df94714433d9375a15ebc0a</td>\n",
       "    </tr>\n",
       "    <tr>\n",
       "      <th>1</th>\n",
       "      <td>2.0</td>\n",
       "      <td>Desktop</td>\n",
       "      <td>1.0</td>\n",
       "      <td>3bec23ac-4122-4bc0-953d-802af2348e8d</td>\n",
       "      <td>2024-01-17 17:46:04.102000+00:00</td>\n",
       "      <td>2024-01-17 17:46:42.729274+00:00</td>\n",
       "      <td>1f3e7516a2109f12caa83bc9346d43f5</td>\n",
       "    </tr>\n",
       "    <tr>\n",
       "      <th>2</th>\n",
       "      <td>3.0</td>\n",
       "      <td>iPhone</td>\n",
       "      <td>2.0</td>\n",
       "      <td>3fcaec61-b42c-4b33-a26c-8b1269697d27</td>\n",
       "      <td>2024-01-17 17:46:04.102000+00:00</td>\n",
       "      <td>2024-01-17 17:46:42.729274+00:00</td>\n",
       "      <td>5403177babe8cf1e1c568130a19d075b</td>\n",
       "    </tr>\n",
       "    <tr>\n",
       "      <th>3</th>\n",
       "      <td>4.0</td>\n",
       "      <td>Samsung Galaxy</td>\n",
       "      <td>2.0</td>\n",
       "      <td>c30808b6-552a-413b-8162-68b8ad2dfc3f</td>\n",
       "      <td>2024-01-17 17:46:04.102000+00:00</td>\n",
       "      <td>2024-01-17 17:46:42.729274+00:00</td>\n",
       "      <td>3c6dbf6f0ced63c322f62123888d0a41</td>\n",
       "    </tr>\n",
       "    <tr>\n",
       "      <th>4</th>\n",
       "      <td>5.0</td>\n",
       "      <td>Laser</td>\n",
       "      <td>3.0</td>\n",
       "      <td>b3fc9e13-609f-47ab-9890-ba6777f66481</td>\n",
       "      <td>2024-01-17 17:46:04.102000+00:00</td>\n",
       "      <td>2024-01-17 17:46:42.729274+00:00</td>\n",
       "      <td>945cd880c7b3195e9d95c4c4142b8d60</td>\n",
       "    </tr>\n",
       "    <tr>\n",
       "      <th>5</th>\n",
       "      <td>6.0</td>\n",
       "      <td>Matricial</td>\n",
       "      <td>3.0</td>\n",
       "      <td>dfc64c85-c09f-4fd7-b8e1-4670e50c773e</td>\n",
       "      <td>2024-01-17 17:46:04.102000+00:00</td>\n",
       "      <td>2024-01-17 17:46:42.729274+00:00</td>\n",
       "      <td>2a82109db3fd1e505899f0b9467717dd</td>\n",
       "    </tr>\n",
       "    <tr>\n",
       "      <th>6</th>\n",
       "      <td>NaN</td>\n",
       "      <td>teste</td>\n",
       "      <td>NaN</td>\n",
       "      <td>None</td>\n",
       "      <td>NaT</td>\n",
       "      <td>NaT</td>\n",
       "      <td>None</td>\n",
       "    </tr>\n",
       "  </tbody>\n",
       "</table>\n",
       "</div>"
      ],
      "text/plain": [
       "   id_subcategoria nome_subcategoria  id_categoria  \\\n",
       "0              1.0          Notebook           1.0   \n",
       "1              2.0           Desktop           1.0   \n",
       "2              3.0            iPhone           2.0   \n",
       "3              4.0    Samsung Galaxy           2.0   \n",
       "4              5.0             Laser           3.0   \n",
       "5              6.0         Matricial           3.0   \n",
       "6              NaN             teste           NaN   \n",
       "\n",
       "                         _airbyte_ab_id              _airbyte_emitted_at  \\\n",
       "0  a893ac31-8b59-4fec-bf14-62bfd247ed34 2024-01-17 17:46:04.102000+00:00   \n",
       "1  3bec23ac-4122-4bc0-953d-802af2348e8d 2024-01-17 17:46:04.102000+00:00   \n",
       "2  3fcaec61-b42c-4b33-a26c-8b1269697d27 2024-01-17 17:46:04.102000+00:00   \n",
       "3  c30808b6-552a-413b-8162-68b8ad2dfc3f 2024-01-17 17:46:04.102000+00:00   \n",
       "4  b3fc9e13-609f-47ab-9890-ba6777f66481 2024-01-17 17:46:04.102000+00:00   \n",
       "5  dfc64c85-c09f-4fd7-b8e1-4670e50c773e 2024-01-17 17:46:04.102000+00:00   \n",
       "6                                  None                              NaT   \n",
       "\n",
       "            _airbyte_normalized_at _airbyte_st_ft_subcategorias_hashid  \n",
       "0 2024-01-17 17:46:42.729274+00:00    268b401d8df94714433d9375a15ebc0a  \n",
       "1 2024-01-17 17:46:42.729274+00:00    1f3e7516a2109f12caa83bc9346d43f5  \n",
       "2 2024-01-17 17:46:42.729274+00:00    5403177babe8cf1e1c568130a19d075b  \n",
       "3 2024-01-17 17:46:42.729274+00:00    3c6dbf6f0ced63c322f62123888d0a41  \n",
       "4 2024-01-17 17:46:42.729274+00:00    945cd880c7b3195e9d95c4c4142b8d60  \n",
       "5 2024-01-17 17:46:42.729274+00:00    2a82109db3fd1e505899f0b9467717dd  \n",
       "6                              NaT                                None  "
      ]
     },
     "execution_count": 12,
     "metadata": {},
     "output_type": "execute_result"
    }
   ],
   "source": [
    "import datetime\n",
    "\n",
    "import pandas as pd\n",
    "\n",
    "import great_expectations as gx\n",
    "import great_expectations.jupyter_ux\n",
    "from great_expectations.core.batch import BatchRequest\n",
    "from great_expectations.checkpoint import SimpleCheckpoint\n",
    "from great_expectations.exceptions import DataContextError\n",
    "\n",
    "context = gx.get_context()\n",
    "\n",
    "# Note that if you modify this batch request, you may save the new version as a .json file\n",
    "#  to pass in later via the --batch-request option\n",
    "batch_request = {'datasource_name': 'transacional', 'data_connector_name': 'default_inferred_data_connector_name', 'data_asset_name': 'staging.st_ft_subcategorias', 'limit': 1000}\n",
    "\n",
    "\n",
    "# Feel free to change the name of your suite here. Renaming this will not remove the other one.\n",
    "expectation_suite_name = \"ge_suite_st_ft_subcategorias\"\n",
    "try:\n",
    "    suite = context.get_expectation_suite(expectation_suite_name=expectation_suite_name)\n",
    "    print(f'Loaded ExpectationSuite \"{suite.expectation_suite_name}\" containing {len(suite.expectations)} expectations.')\n",
    "except DataContextError:\n",
    "    suite = context.add_expectation_suite(expectation_suite_name=expectation_suite_name)\n",
    "    print(f'Created ExpectationSuite \"{suite.expectation_suite_name}\".')\n",
    "\n",
    "\n",
    "validator = context.get_validator(\n",
    "    batch_request=BatchRequest(**batch_request),\n",
    "    expectation_suite_name=expectation_suite_name\n",
    ")\n",
    "column_names = [f'\"{column_name}\"' for column_name in validator.columns()]\n",
    "print(f\"Columns: {', '.join(column_names)}.\")\n",
    "validator.head(n_rows=10, fetch_all=False)"
   ]
  },
  {
   "cell_type": "markdown",
   "id": "56cfcacc",
   "metadata": {},
   "source": [
    "## Create & Edit Expectations\n",
    "\n",
    "\n",
    "Add expectations by calling specific expectation methods on the `validator` object. They all begin with `.expect_` which makes autocompleting easy using tab.\n",
    "\n",
    "Because you selected interactive mode, you are now creating or editing an Expectation Suite with validator feedback from the sample batch of data that you specified (see `batch_request`).\n",
    "\n",
    "Note that if you select manual mode you may still create or edit an Expectation Suite directly, without feedback from the `validator`. See our documentation for more info and examples: [How to create a new Expectation Suite without a sample batch](https://docs.greatexpectations.io/docs/guides/expectations/how_to_create_and_edit_expectations_based_on_domain_knowledge_without_inspecting_data_directly).\n",
    "\n",
    "\n",
    "\n",
    "You can see all the available expectations in the **[expectation gallery](https://greatexpectations.io/expectations)**."
   ]
  },
  {
   "cell_type": "markdown",
   "id": "8bf27daf",
   "metadata": {},
   "source": [
    "### Table Expectation(s)"
   ]
  },
  {
   "cell_type": "markdown",
   "id": "8aa606c1",
   "metadata": {},
   "source": [
    "No table level expectations are in this suite. Feel free to add some here.\n",
    "\n",
    "They all begin with `validator.expect_table_...`.\n"
   ]
  },
  {
   "cell_type": "markdown",
   "id": "e550bee6",
   "metadata": {},
   "source": [
    "### Column Expectation(s)"
   ]
  },
  {
   "cell_type": "markdown",
   "id": "d6901b2b",
   "metadata": {},
   "source": [
    "#### `id_subcategoria`"
   ]
  },
  {
   "cell_type": "code",
   "execution_count": 13,
   "id": "07bf0dae",
   "metadata": {},
   "outputs": [
    {
     "data": {
      "application/vnd.jupyter.widget-view+json": {
       "model_id": "542058d7acc14878970300d37e556661",
       "version_major": 2,
       "version_minor": 0
      },
      "text/plain": [
       "Calculating Metrics:   0%|          | 0/8 [00:00<?, ?it/s]"
      ]
     },
     "metadata": {},
     "output_type": "display_data"
    },
    {
     "data": {
      "text/plain": [
       "{\n",
       "  \"success\": false,\n",
       "  \"result\": {\n",
       "    \"element_count\": 7,\n",
       "    \"unexpected_count\": 1,\n",
       "    \"unexpected_percent\": 14.285714285714285,\n",
       "    \"partial_unexpected_list\": [\n",
       "      null\n",
       "    ]\n",
       "  },\n",
       "  \"meta\": {},\n",
       "  \"exception_info\": {\n",
       "    \"raised_exception\": false,\n",
       "    \"exception_traceback\": null,\n",
       "    \"exception_message\": null\n",
       "  }\n",
       "}"
      ]
     },
     "execution_count": 13,
     "metadata": {},
     "output_type": "execute_result"
    }
   ],
   "source": [
    "\n",
    "validator.expect_column_values_to_not_be_null(column='id_subcategoria')"
   ]
  },
  {
   "cell_type": "code",
   "execution_count": 14,
   "id": "f004acc1",
   "metadata": {},
   "outputs": [
    {
     "data": {
      "application/vnd.jupyter.widget-view+json": {
       "model_id": "c436071ab8c04c0eb9c49ee134885bcd",
       "version_major": 2,
       "version_minor": 0
      },
      "text/plain": [
       "Calculating Metrics:   0%|          | 0/10 [00:00<?, ?it/s]"
      ]
     },
     "metadata": {},
     "output_type": "display_data"
    },
    {
     "data": {
      "text/plain": [
       "{\n",
       "  \"success\": true,\n",
       "  \"result\": {\n",
       "    \"element_count\": 7,\n",
       "    \"unexpected_count\": 0,\n",
       "    \"unexpected_percent\": 0.0,\n",
       "    \"partial_unexpected_list\": [],\n",
       "    \"missing_count\": 1,\n",
       "    \"missing_percent\": 14.285714285714285,\n",
       "    \"unexpected_percent_total\": 0.0,\n",
       "    \"unexpected_percent_nonmissing\": 0.0\n",
       "  },\n",
       "  \"meta\": {},\n",
       "  \"exception_info\": {\n",
       "    \"raised_exception\": false,\n",
       "    \"exception_traceback\": null,\n",
       "    \"exception_message\": null\n",
       "  }\n",
       "}"
      ]
     },
     "execution_count": 14,
     "metadata": {},
     "output_type": "execute_result"
    }
   ],
   "source": [
    "\n",
    "validator.expect_column_values_to_be_unique(column='id_subcategoria')"
   ]
  },
  {
   "cell_type": "markdown",
   "id": "02aa5295",
   "metadata": {},
   "source": [
    "#### `nome_subcategoria`"
   ]
  },
  {
   "cell_type": "code",
   "execution_count": 15,
   "id": "dd85ceb3",
   "metadata": {},
   "outputs": [
    {
     "data": {
      "application/vnd.jupyter.widget-view+json": {
       "model_id": "d556c394224243a0a66f8ed8bf1852dc",
       "version_major": 2,
       "version_minor": 0
      },
      "text/plain": [
       "Calculating Metrics:   0%|          | 0/8 [00:00<?, ?it/s]"
      ]
     },
     "metadata": {},
     "output_type": "display_data"
    },
    {
     "data": {
      "text/plain": [
       "{\n",
       "  \"success\": true,\n",
       "  \"result\": {\n",
       "    \"element_count\": 7,\n",
       "    \"unexpected_count\": 0,\n",
       "    \"unexpected_percent\": 0.0,\n",
       "    \"partial_unexpected_list\": []\n",
       "  },\n",
       "  \"meta\": {},\n",
       "  \"exception_info\": {\n",
       "    \"raised_exception\": false,\n",
       "    \"exception_traceback\": null,\n",
       "    \"exception_message\": null\n",
       "  }\n",
       "}"
      ]
     },
     "execution_count": 15,
     "metadata": {},
     "output_type": "execute_result"
    }
   ],
   "source": [
    "\n",
    "validator.expect_column_values_to_not_be_null(column='nome_subcategoria')"
   ]
  },
  {
   "cell_type": "code",
   "execution_count": 16,
   "id": "f2bd45e1",
   "metadata": {},
   "outputs": [
    {
     "data": {
      "application/vnd.jupyter.widget-view+json": {
       "model_id": "74028f50f091438fb1aebf331d8d52b2",
       "version_major": 2,
       "version_minor": 0
      },
      "text/plain": [
       "Calculating Metrics:   0%|          | 0/11 [00:00<?, ?it/s]"
      ]
     },
     "metadata": {},
     "output_type": "display_data"
    },
    {
     "data": {
      "text/plain": [
       "{\n",
       "  \"success\": false,\n",
       "  \"result\": {\n",
       "    \"element_count\": 7,\n",
       "    \"unexpected_count\": 1,\n",
       "    \"unexpected_percent\": 14.285714285714285,\n",
       "    \"partial_unexpected_list\": [\n",
       "      \"teste\"\n",
       "    ],\n",
       "    \"missing_count\": 0,\n",
       "    \"missing_percent\": 0.0,\n",
       "    \"unexpected_percent_total\": 14.285714285714285,\n",
       "    \"unexpected_percent_nonmissing\": 14.285714285714285\n",
       "  },\n",
       "  \"meta\": {},\n",
       "  \"exception_info\": {\n",
       "    \"raised_exception\": false,\n",
       "    \"exception_traceback\": null,\n",
       "    \"exception_message\": null\n",
       "  }\n",
       "}"
      ]
     },
     "execution_count": 16,
     "metadata": {},
     "output_type": "execute_result"
    }
   ],
   "source": [
    "\n",
    "validator.expect_column_values_to_be_in_set(column='nome_subcategoria', value_set=['Notebook', 'Desktop', 'iPhone', 'Samsung Galaxy', 'Laser', 'Matricial'])"
   ]
  },
  {
   "cell_type": "markdown",
   "id": "a5be0bbb",
   "metadata": {},
   "source": [
    "#### `id_categoria`"
   ]
  },
  {
   "cell_type": "code",
   "execution_count": 17,
   "id": "3401e21a",
   "metadata": {},
   "outputs": [
    {
     "data": {
      "application/vnd.jupyter.widget-view+json": {
       "model_id": "bfbb49f90ded4945a59dcda1443ab455",
       "version_major": 2,
       "version_minor": 0
      },
      "text/plain": [
       "Calculating Metrics:   0%|          | 0/8 [00:00<?, ?it/s]"
      ]
     },
     "metadata": {},
     "output_type": "display_data"
    },
    {
     "data": {
      "text/plain": [
       "{\n",
       "  \"success\": false,\n",
       "  \"result\": {\n",
       "    \"element_count\": 7,\n",
       "    \"unexpected_count\": 1,\n",
       "    \"unexpected_percent\": 14.285714285714285,\n",
       "    \"partial_unexpected_list\": [\n",
       "      null\n",
       "    ]\n",
       "  },\n",
       "  \"meta\": {},\n",
       "  \"exception_info\": {\n",
       "    \"raised_exception\": false,\n",
       "    \"exception_traceback\": null,\n",
       "    \"exception_message\": null\n",
       "  }\n",
       "}"
      ]
     },
     "execution_count": 17,
     "metadata": {},
     "output_type": "execute_result"
    }
   ],
   "source": [
    "\n",
    "validator.expect_column_values_to_not_be_null(column='id_categoria')"
   ]
  },
  {
   "cell_type": "markdown",
   "id": "c1019384",
   "metadata": {},
   "source": [
    "## Review & Save Your Expectations\n",
    "\n",
    "Let's save the expectation suite as a JSON file in the `great_expectations/expectations` directory of your project.\n",
    "\n",
    "Let's now rebuild your Data Docs, which helps you communicate about your data with both machines and humans."
   ]
  },
  {
   "cell_type": "code",
   "execution_count": 18,
   "id": "2447408b",
   "metadata": {},
   "outputs": [
    {
     "name": "stdout",
     "output_type": "stream",
     "text": [
      "2024-01-17T17:54:23+0000 - INFO - \t5 expectation(s) included in expectation_suite.\n",
      "{\n",
      "  \"expectation_suite_name\": \"ge_suite_st_ft_subcategorias\",\n",
      "  \"ge_cloud_id\": null,\n",
      "  \"expectations\": [\n",
      "    {\n",
      "      \"expectation_type\": \"expect_column_values_to_not_be_null\",\n",
      "      \"kwargs\": {\n",
      "        \"column\": \"id_subcategoria\"\n",
      "      },\n",
      "      \"meta\": {}\n",
      "    },\n",
      "    {\n",
      "      \"expectation_type\": \"expect_column_values_to_not_be_null\",\n",
      "      \"kwargs\": {\n",
      "        \"column\": \"nome_subcategoria\"\n",
      "      },\n",
      "      \"meta\": {}\n",
      "    },\n",
      "    {\n",
      "      \"expectation_type\": \"expect_column_values_to_not_be_null\",\n",
      "      \"kwargs\": {\n",
      "        \"column\": \"id_categoria\"\n",
      "      },\n",
      "      \"meta\": {}\n",
      "    },\n",
      "    {\n",
      "      \"expectation_type\": \"expect_column_values_to_be_unique\",\n",
      "      \"kwargs\": {\n",
      "        \"column\": \"id_subcategoria\"\n",
      "      },\n",
      "      \"meta\": {}\n",
      "    },\n",
      "    {\n",
      "      \"expectation_type\": \"expect_column_values_to_be_in_set\",\n",
      "      \"kwargs\": {\n",
      "        \"column\": \"nome_subcategoria\",\n",
      "        \"value_set\": [\n",
      "          \"Notebook\",\n",
      "          \"Desktop\",\n",
      "          \"iPhone\",\n",
      "          \"Samsung Galaxy\",\n",
      "          \"Laser\",\n",
      "          \"Matricial\"\n",
      "        ]\n",
      "      },\n",
      "      \"meta\": {}\n",
      "    }\n",
      "  ],\n",
      "  \"data_asset_type\": null,\n",
      "  \"meta\": {\n",
      "    \"citations\": [\n",
      "      {\n",
      "        \"batch_request\": {\n",
      "          \"data_asset_name\": \"default_data_asset_name\",\n",
      "          \"data_connector_name\": \"default_inferred_data_connector_name\",\n",
      "          \"datasource_name\": \"transacional\",\n",
      "          \"limit\": 1000\n",
      "        },\n",
      "        \"citation_date\": \"2024-01-17T00:38:39.240178Z\",\n",
      "        \"comment\": \"Created suite added via CLI\"\n",
      "      }\n",
      "    ],\n",
      "    \"great_expectations_version\": \"0.18.8\"\n",
      "  }\n",
      "}\n",
      "2024-01-17T17:54:23+0000 - INFO - \t5 expectation(s) included in expectation_suite.\n",
      "2024-01-17T17:54:23+0000 - INFO - \t5 expectation(s) included in expectation_suite.\n"
     ]
    },
    {
     "data": {
      "application/vnd.jupyter.widget-view+json": {
       "model_id": "774b94b78ffe4f4a9799e6d44aa9f6a3",
       "version_major": 2,
       "version_minor": 0
      },
      "text/plain": [
       "Calculating Metrics:   0%|          | 0/33 [00:00<?, ?it/s]"
      ]
     },
     "metadata": {},
     "output_type": "display_data"
    }
   ],
   "source": [
    "print(validator.get_expectation_suite(discard_failed_expectations=False))\n",
    "validator.save_expectation_suite(discard_failed_expectations=False)\n",
    "\n",
    "checkpoint_config = {\n",
    "    \"class_name\": \"SimpleCheckpoint\",\n",
    "    \"validations\": [\n",
    "        {\n",
    "            \"batch_request\": batch_request,\n",
    "            \"expectation_suite_name\": expectation_suite_name\n",
    "        }\n",
    "    ]\n",
    "}\n",
    "checkpoint = SimpleCheckpoint(\n",
    "    f\"{validator.active_batch_definition.data_asset_name}_{expectation_suite_name}\",\n",
    "    context,\n",
    "    **checkpoint_config\n",
    ")\n",
    "checkpoint_result = checkpoint.run()\n",
    "\n",
    "context.build_data_docs()\n",
    "\n",
    "validation_result_identifier = checkpoint_result.list_validation_result_identifiers()[0]\n",
    "context.open_data_docs(resource_identifier=validation_result_identifier)"
   ]
  },
  {
   "cell_type": "code",
   "execution_count": null,
   "id": "2d0b58dc-0d88-46ab-bd55-667581390161",
   "metadata": {},
   "outputs": [],
   "source": []
  },
  {
   "cell_type": "code",
   "execution_count": null,
   "id": "07bc5dda-6882-486e-b10b-be2b34406ae5",
   "metadata": {},
   "outputs": [],
   "source": []
  }
 ],
 "metadata": {
  "kernelspec": {
   "display_name": "Python 3 (ipykernel)",
   "language": "python",
   "name": "python3"
  },
  "language_info": {
   "codemirror_mode": {
    "name": "ipython",
    "version": 3
   },
   "file_extension": ".py",
   "mimetype": "text/x-python",
   "name": "python",
   "nbconvert_exporter": "python",
   "pygments_lexer": "ipython3",
   "version": "3.11.7"
  }
 },
 "nbformat": 4,
 "nbformat_minor": 5
}
