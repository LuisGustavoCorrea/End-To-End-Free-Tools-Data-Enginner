{
 "cells": [
  {
   "cell_type": "markdown",
   "id": "b8a8fb1f",
   "metadata": {},
   "source": [
    "# Edit Your Expectation Suite\n",
    "Use this notebook to recreate and modify your expectation suite:\n",
    "\n",
    "**Expectation Suite Name**: `ge_suite_st_ft_tipo_cliente`"
   ]
  },
  {
   "cell_type": "code",
   "execution_count": 1,
   "id": "0f6b00f3",
   "metadata": {},
   "outputs": [
    {
     "name": "stdout",
     "output_type": "stream",
     "text": [
      "2024-01-17T23:59:30+0000 - INFO - Great Expectations logging enabled at 20 level by JupyterUX module.\n",
      "2024-01-17T23:59:30+0000 - INFO - FileDataContext loading fluent config\n",
      "2024-01-17T23:59:30+0000 - INFO - Loading 'datasources' ->\n",
      "[]\n",
      "Loaded ExpectationSuite \"ge_suite_st_ft_tipo_cliente\" containing 0 expectations.\n"
     ]
    },
    {
     "data": {
      "application/vnd.jupyter.widget-view+json": {
       "model_id": "7dded1aa5b3546c1be8cdf4a0feb4950",
       "version_major": 2,
       "version_minor": 0
      },
      "text/plain": [
       "Calculating Metrics:   0%|          | 0/2 [00:00<?, ?it/s]"
      ]
     },
     "metadata": {},
     "output_type": "display_data"
    },
    {
     "name": "stdout",
     "output_type": "stream",
     "text": [
      "Columns: \"nome_tipo\", \"id_tipo\", \"_airbyte_ab_id\", \"_airbyte_emitted_at\", \"_airbyte_normalized_at\", \"_airbyte_st_ft_tipo_cliente_hashid\".\n"
     ]
    },
    {
     "data": {
      "application/vnd.jupyter.widget-view+json": {
       "model_id": "d5c5f5248570435db16d960722501b28",
       "version_major": 2,
       "version_minor": 0
      },
      "text/plain": [
       "Calculating Metrics:   0%|          | 0/1 [00:00<?, ?it/s]"
      ]
     },
     "metadata": {},
     "output_type": "display_data"
    },
    {
     "data": {
      "text/html": [
       "<div>\n",
       "<style scoped>\n",
       "    .dataframe tbody tr th:only-of-type {\n",
       "        vertical-align: middle;\n",
       "    }\n",
       "\n",
       "    .dataframe tbody tr th {\n",
       "        vertical-align: top;\n",
       "    }\n",
       "\n",
       "    .dataframe thead th {\n",
       "        text-align: right;\n",
       "    }\n",
       "</style>\n",
       "<table border=\"1\" class=\"dataframe\">\n",
       "  <thead>\n",
       "    <tr style=\"text-align: right;\">\n",
       "      <th></th>\n",
       "      <th>nome_tipo</th>\n",
       "      <th>id_tipo</th>\n",
       "      <th>_airbyte_ab_id</th>\n",
       "      <th>_airbyte_emitted_at</th>\n",
       "      <th>_airbyte_normalized_at</th>\n",
       "      <th>_airbyte_st_ft_tipo_cliente_hashid</th>\n",
       "    </tr>\n",
       "  </thead>\n",
       "  <tbody>\n",
       "    <tr>\n",
       "      <th>0</th>\n",
       "      <td>Corporativo</td>\n",
       "      <td>1</td>\n",
       "      <td>07f8b187-7f22-42ab-b8d9-aa9448aa52c6</td>\n",
       "      <td>2024-01-17 17:55:56.443000+00:00</td>\n",
       "      <td>2024-01-17 17:56:13.553320+00:00</td>\n",
       "      <td>98bf54473f6a8713a45ffa76ebdd2aaf</td>\n",
       "    </tr>\n",
       "    <tr>\n",
       "      <th>1</th>\n",
       "      <td>Consumidor</td>\n",
       "      <td>2</td>\n",
       "      <td>bca7a11b-1b68-4e4f-accc-79d310728e06</td>\n",
       "      <td>2024-01-17 17:55:56.443000+00:00</td>\n",
       "      <td>2024-01-17 17:56:13.553320+00:00</td>\n",
       "      <td>50419b9c0f8fff2b613206ff8c603f0b</td>\n",
       "    </tr>\n",
       "    <tr>\n",
       "      <th>2</th>\n",
       "      <td>Desativado</td>\n",
       "      <td>3</td>\n",
       "      <td>b7375af1-b8f7-4016-8e02-dc7991ae01ca</td>\n",
       "      <td>2024-01-17 17:55:56.443000+00:00</td>\n",
       "      <td>2024-01-17 17:56:13.553320+00:00</td>\n",
       "      <td>214d2916cd1716a48fff46fad5b32345</td>\n",
       "    </tr>\n",
       "  </tbody>\n",
       "</table>\n",
       "</div>"
      ],
      "text/plain": [
       "     nome_tipo  id_tipo                        _airbyte_ab_id  \\\n",
       "0  Corporativo        1  07f8b187-7f22-42ab-b8d9-aa9448aa52c6   \n",
       "1   Consumidor        2  bca7a11b-1b68-4e4f-accc-79d310728e06   \n",
       "2   Desativado        3  b7375af1-b8f7-4016-8e02-dc7991ae01ca   \n",
       "\n",
       "               _airbyte_emitted_at           _airbyte_normalized_at  \\\n",
       "0 2024-01-17 17:55:56.443000+00:00 2024-01-17 17:56:13.553320+00:00   \n",
       "1 2024-01-17 17:55:56.443000+00:00 2024-01-17 17:56:13.553320+00:00   \n",
       "2 2024-01-17 17:55:56.443000+00:00 2024-01-17 17:56:13.553320+00:00   \n",
       "\n",
       "  _airbyte_st_ft_tipo_cliente_hashid  \n",
       "0   98bf54473f6a8713a45ffa76ebdd2aaf  \n",
       "1   50419b9c0f8fff2b613206ff8c603f0b  \n",
       "2   214d2916cd1716a48fff46fad5b32345  "
      ]
     },
     "execution_count": 1,
     "metadata": {},
     "output_type": "execute_result"
    }
   ],
   "source": [
    "import datetime\n",
    "\n",
    "import pandas as pd\n",
    "\n",
    "import great_expectations as gx\n",
    "import great_expectations.jupyter_ux\n",
    "from great_expectations.core.batch import BatchRequest\n",
    "from great_expectations.checkpoint import SimpleCheckpoint\n",
    "from great_expectations.exceptions import DataContextError\n",
    "\n",
    "context = gx.get_context()\n",
    "\n",
    "# Note that if you modify this batch request, you may save the new version as a .json file\n",
    "#  to pass in later via the --batch-request option\n",
    "batch_request = {'datasource_name': 'transacional', 'data_connector_name': 'default_inferred_data_connector_name', 'data_asset_name': 'staging.st_ft_tipo_cliente', 'limit': 1000}\n",
    "\n",
    "\n",
    "# Feel free to change the name of your suite here. Renaming this will not remove the other one.\n",
    "expectation_suite_name = \"ge_suite_st_ft_tipo_cliente\"\n",
    "try:\n",
    "    suite = context.get_expectation_suite(expectation_suite_name=expectation_suite_name)\n",
    "    print(f'Loaded ExpectationSuite \"{suite.expectation_suite_name}\" containing {len(suite.expectations)} expectations.')\n",
    "except DataContextError:\n",
    "    suite = context.add_expectation_suite(expectation_suite_name=expectation_suite_name)\n",
    "    print(f'Created ExpectationSuite \"{suite.expectation_suite_name}\".')\n",
    "\n",
    "\n",
    "validator = context.get_validator(\n",
    "    batch_request=BatchRequest(**batch_request),\n",
    "    expectation_suite_name=expectation_suite_name\n",
    ")\n",
    "column_names = [f'\"{column_name}\"' for column_name in validator.columns()]\n",
    "print(f\"Columns: {', '.join(column_names)}.\")\n",
    "validator.head(n_rows=5, fetch_all=False)"
   ]
  },
  {
   "cell_type": "markdown",
   "id": "b5a971ef",
   "metadata": {},
   "source": [
    "## Create & Edit Expectations\n",
    "\n",
    "\n",
    "Add expectations by calling specific expectation methods on the `validator` object. They all begin with `.expect_` which makes autocompleting easy using tab.\n",
    "\n",
    "Because you selected interactive mode, you are now creating or editing an Expectation Suite with validator feedback from the sample batch of data that you specified (see `batch_request`).\n",
    "\n",
    "Note that if you select manual mode you may still create or edit an Expectation Suite directly, without feedback from the `validator`. See our documentation for more info and examples: [How to create a new Expectation Suite without a sample batch](https://docs.greatexpectations.io/docs/guides/expectations/how_to_create_and_edit_expectations_based_on_domain_knowledge_without_inspecting_data_directly).\n",
    "\n",
    "\n",
    "\n",
    "You can see all the available expectations in the **[expectation gallery](https://greatexpectations.io/expectations)**."
   ]
  },
  {
   "cell_type": "markdown",
   "id": "20cd32f0",
   "metadata": {},
   "source": [
    "### Table Expectation(s)"
   ]
  },
  {
   "cell_type": "markdown",
   "id": "d41b61a6",
   "metadata": {},
   "source": [
    "No table level expectations are in this suite. Feel free to add some here.\n",
    "\n",
    "They all begin with `validator.expect_table_...`.\n"
   ]
  },
  {
   "cell_type": "markdown",
   "id": "2417c3d5",
   "metadata": {},
   "source": [
    "### Column Expectation(s)"
   ]
  },
  {
   "cell_type": "markdown",
   "id": "cf5b3759",
   "metadata": {},
   "source": [
    "No column level expectations are in this suite. Feel free to add some here.\n",
    "\n",
    "They all begin with`validator.expect_column_...`.\n"
   ]
  },
  {
   "cell_type": "code",
   "execution_count": 2,
   "id": "3d8ec35b-6f87-4963-842f-07e38c5a3317",
   "metadata": {},
   "outputs": [
    {
     "data": {
      "application/vnd.jupyter.widget-view+json": {
       "model_id": "75b15b1ebc1744f1b38e68a34ac741cd",
       "version_major": 2,
       "version_minor": 0
      },
      "text/plain": [
       "Calculating Metrics:   0%|          | 0/8 [00:00<?, ?it/s]"
      ]
     },
     "metadata": {},
     "output_type": "display_data"
    },
    {
     "data": {
      "application/vnd.jupyter.widget-view+json": {
       "model_id": "a44df437d9ca4adfb3308d1deed179d3",
       "version_major": 2,
       "version_minor": 0
      },
      "text/plain": [
       "Calculating Metrics:   0%|          | 0/8 [00:00<?, ?it/s]"
      ]
     },
     "metadata": {},
     "output_type": "display_data"
    },
    {
     "data": {
      "application/vnd.jupyter.widget-view+json": {
       "model_id": "43ffc515201744adb292cc53fae99a42",
       "version_major": 2,
       "version_minor": 0
      },
      "text/plain": [
       "Calculating Metrics:   0%|          | 0/10 [00:00<?, ?it/s]"
      ]
     },
     "metadata": {},
     "output_type": "display_data"
    },
    {
     "data": {
      "application/vnd.jupyter.widget-view+json": {
       "model_id": "825745a81d484dd2ae03a91fb7444570",
       "version_major": 2,
       "version_minor": 0
      },
      "text/plain": [
       "Calculating Metrics:   0%|          | 0/11 [00:00<?, ?it/s]"
      ]
     },
     "metadata": {},
     "output_type": "display_data"
    },
    {
     "data": {
      "text/plain": [
       "{\n",
       "  \"success\": true,\n",
       "  \"result\": {\n",
       "    \"element_count\": 3,\n",
       "    \"unexpected_count\": 0,\n",
       "    \"unexpected_percent\": 0.0,\n",
       "    \"partial_unexpected_list\": [],\n",
       "    \"missing_count\": 0,\n",
       "    \"missing_percent\": 0.0,\n",
       "    \"unexpected_percent_total\": 0.0,\n",
       "    \"unexpected_percent_nonmissing\": 0.0\n",
       "  },\n",
       "  \"meta\": {},\n",
       "  \"exception_info\": {\n",
       "    \"raised_exception\": false,\n",
       "    \"exception_traceback\": null,\n",
       "    \"exception_message\": null\n",
       "  }\n",
       "}"
      ]
     },
     "execution_count": 2,
     "metadata": {},
     "output_type": "execute_result"
    }
   ],
   "source": [
    "validator.expect_column_values_to_not_be_null('id_tipo')\n",
    "validator.expect_column_values_to_not_be_null('nome_tipo')\n",
    "validator.expect_column_values_to_be_unique('id_tipo')\n",
    "validator.expect_column_values_to_be_in_set('nome_tipo',['Corporativo','Consumidor','Desativado'])"
   ]
  },
  {
   "cell_type": "markdown",
   "id": "c5626040",
   "metadata": {},
   "source": [
    "## Review & Save Your Expectations\n",
    "\n",
    "Let's save the expectation suite as a JSON file in the `great_expectations/expectations` directory of your project.\n",
    "\n",
    "Let's now rebuild your Data Docs, which helps you communicate about your data with both machines and humans."
   ]
  },
  {
   "cell_type": "code",
   "execution_count": 3,
   "id": "e3dabc06",
   "metadata": {},
   "outputs": [
    {
     "name": "stdout",
     "output_type": "stream",
     "text": [
      "2024-01-17T23:59:48+0000 - INFO - \t4 expectation(s) included in expectation_suite.\n",
      "{\n",
      "  \"expectation_suite_name\": \"ge_suite_st_ft_tipo_cliente\",\n",
      "  \"ge_cloud_id\": null,\n",
      "  \"expectations\": [\n",
      "    {\n",
      "      \"expectation_type\": \"expect_column_values_to_not_be_null\",\n",
      "      \"kwargs\": {\n",
      "        \"column\": \"id_tipo\"\n",
      "      },\n",
      "      \"meta\": {}\n",
      "    },\n",
      "    {\n",
      "      \"expectation_type\": \"expect_column_values_to_not_be_null\",\n",
      "      \"kwargs\": {\n",
      "        \"column\": \"nome_tipo\"\n",
      "      },\n",
      "      \"meta\": {}\n",
      "    },\n",
      "    {\n",
      "      \"expectation_type\": \"expect_column_values_to_be_unique\",\n",
      "      \"kwargs\": {\n",
      "        \"column\": \"id_tipo\"\n",
      "      },\n",
      "      \"meta\": {}\n",
      "    },\n",
      "    {\n",
      "      \"expectation_type\": \"expect_column_values_to_be_in_set\",\n",
      "      \"kwargs\": {\n",
      "        \"column\": \"nome_tipo\",\n",
      "        \"value_set\": [\n",
      "          \"Corporativo\",\n",
      "          \"Consumidor\",\n",
      "          \"Desativado\"\n",
      "        ]\n",
      "      },\n",
      "      \"meta\": {}\n",
      "    }\n",
      "  ],\n",
      "  \"data_asset_type\": null,\n",
      "  \"meta\": {\n",
      "    \"citations\": [\n",
      "      {\n",
      "        \"batch_request\": {\n",
      "          \"data_asset_name\": \"staging.st_ft_tipo_cliente\",\n",
      "          \"data_connector_name\": \"default_inferred_data_connector_name\",\n",
      "          \"datasource_name\": \"transacional\",\n",
      "          \"limit\": 1000\n",
      "        },\n",
      "        \"citation_date\": \"2024-01-17T19:44:30.472931Z\",\n",
      "        \"comment\": \"Created suite added via CLI\"\n",
      "      }\n",
      "    ],\n",
      "    \"great_expectations_version\": \"0.18.8\"\n",
      "  }\n",
      "}\n",
      "2024-01-17T23:59:48+0000 - INFO - \t4 expectation(s) included in expectation_suite.\n",
      "2024-01-17T23:59:48+0000 - INFO - \t4 expectation(s) included in expectation_suite.\n"
     ]
    },
    {
     "data": {
      "application/vnd.jupyter.widget-view+json": {
       "model_id": "133781a5371340ffb415f098e12678df",
       "version_major": 2,
       "version_minor": 0
      },
      "text/plain": [
       "Calculating Metrics:   0%|          | 0/27 [00:00<?, ?it/s]"
      ]
     },
     "metadata": {},
     "output_type": "display_data"
    }
   ],
   "source": [
    "print(validator.get_expectation_suite(discard_failed_expectations=False))\n",
    "validator.save_expectation_suite(discard_failed_expectations=False)\n",
    "\n",
    "checkpoint_config = {\n",
    "    \"class_name\": \"SimpleCheckpoint\",\n",
    "    \"validations\": [\n",
    "        {\n",
    "            \"batch_request\": batch_request,\n",
    "            \"expectation_suite_name\": expectation_suite_name\n",
    "        }\n",
    "    ]\n",
    "}\n",
    "checkpoint = SimpleCheckpoint(\n",
    "    f\"{validator.active_batch_definition.data_asset_name}_{expectation_suite_name}\",\n",
    "    context,\n",
    "    **checkpoint_config\n",
    ")\n",
    "checkpoint_result = checkpoint.run()\n",
    "\n",
    "context.build_data_docs()\n",
    "\n",
    "validation_result_identifier = checkpoint_result.list_validation_result_identifiers()[0]\n",
    "context.open_data_docs(resource_identifier=validation_result_identifier)"
   ]
  },
  {
   "cell_type": "code",
   "execution_count": null,
   "id": "920c1bf8-0e37-4880-a20b-7657fe8ee921",
   "metadata": {},
   "outputs": [],
   "source": []
  }
 ],
 "metadata": {
  "kernelspec": {
   "display_name": "Python 3 (ipykernel)",
   "language": "python",
   "name": "python3"
  },
  "language_info": {
   "codemirror_mode": {
    "name": "ipython",
    "version": 3
   },
   "file_extension": ".py",
   "mimetype": "text/x-python",
   "name": "python",
   "nbconvert_exporter": "python",
   "pygments_lexer": "ipython3",
   "version": "3.11.7"
  }
 },
 "nbformat": 4,
 "nbformat_minor": 5
}
