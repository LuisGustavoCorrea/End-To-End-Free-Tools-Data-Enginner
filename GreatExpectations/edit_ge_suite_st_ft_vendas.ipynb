{
 "cells": [
  {
   "cell_type": "markdown",
   "id": "f84426c0",
   "metadata": {},
   "source": [
    "# Edit Your Expectation Suite\n",
    "Use this notebook to recreate and modify your expectation suite:\n",
    "\n",
    "**Expectation Suite Name**: `ge_suite_st_ft_vendas`"
   ]
  },
  {
   "cell_type": "code",
   "execution_count": 2,
   "id": "a2c23962",
   "metadata": {},
   "outputs": [
    {
     "name": "stdout",
     "output_type": "stream",
     "text": [
      "2024-01-18T14:27:39+0000 - INFO - Great Expectations logging enabled at 20 level by JupyterUX module.\n",
      "2024-01-18T14:27:39+0000 - INFO - FileDataContext loading fluent config\n",
      "2024-01-18T14:27:39+0000 - INFO - Loading 'datasources' ->\n",
      "[]\n",
      "Loaded ExpectationSuite \"ge_suite_st_ft_vendas\" containing 15 expectations.\n"
     ]
    },
    {
     "data": {
      "application/vnd.jupyter.widget-view+json": {
       "model_id": "eab786bfe7c24f42855bf1937a423e46",
       "version_major": 2,
       "version_minor": 0
      },
      "text/plain": [
       "Calculating Metrics:   0%|          | 0/2 [00:00<?, ?it/s]"
      ]
     },
     "metadata": {},
     "output_type": "display_data"
    },
    {
     "name": "stdout",
     "output_type": "stream",
     "text": [
      "Columns: \"id_cliente\", \"data_transacao\", \"preco_venda\", \"id_localizacao\", \"id_transacao\", \"id_produto\", \"quantidade\", \"custo_produto\", \"_airbyte_ab_id\", \"_airbyte_emitted_at\", \"_airbyte_normalized_at\", \"_airbyte_st_ft_vendas_hashid\".\n"
     ]
    },
    {
     "data": {
      "application/vnd.jupyter.widget-view+json": {
       "model_id": "4eda60aa9d334651b4d1483dd5d216c3",
       "version_major": 2,
       "version_minor": 0
      },
      "text/plain": [
       "Calculating Metrics:   0%|          | 0/1 [00:00<?, ?it/s]"
      ]
     },
     "metadata": {},
     "output_type": "display_data"
    },
    {
     "data": {
      "text/html": [
       "<div>\n",
       "<style scoped>\n",
       "    .dataframe tbody tr th:only-of-type {\n",
       "        vertical-align: middle;\n",
       "    }\n",
       "\n",
       "    .dataframe tbody tr th {\n",
       "        vertical-align: top;\n",
       "    }\n",
       "\n",
       "    .dataframe thead th {\n",
       "        text-align: right;\n",
       "    }\n",
       "</style>\n",
       "<table border=\"1\" class=\"dataframe\">\n",
       "  <thead>\n",
       "    <tr style=\"text-align: right;\">\n",
       "      <th></th>\n",
       "      <th>id_cliente</th>\n",
       "      <th>data_transacao</th>\n",
       "      <th>preco_venda</th>\n",
       "      <th>id_localizacao</th>\n",
       "      <th>id_transacao</th>\n",
       "      <th>id_produto</th>\n",
       "      <th>quantidade</th>\n",
       "      <th>custo_produto</th>\n",
       "      <th>_airbyte_ab_id</th>\n",
       "      <th>_airbyte_emitted_at</th>\n",
       "      <th>_airbyte_normalized_at</th>\n",
       "      <th>_airbyte_st_ft_vendas_hashid</th>\n",
       "    </tr>\n",
       "  </thead>\n",
       "  <tbody>\n",
       "    <tr>\n",
       "      <th>0</th>\n",
       "      <td>2</td>\n",
       "      <td>2022-09-20 00:00:00</td>\n",
       "      <td>87.31</td>\n",
       "      <td>1</td>\n",
       "      <td>TRAN-100174</td>\n",
       "      <td>4</td>\n",
       "      <td>5</td>\n",
       "      <td>39.76</td>\n",
       "      <td>26d599c0-d480-4647-a647-3cbb93d16efb</td>\n",
       "      <td>2024-01-17 17:55:56.443000+00:00</td>\n",
       "      <td>2024-01-18 13:46:39.562241+00:00</td>\n",
       "      <td>279312499b27ff2a60d1f0aca4c08859</td>\n",
       "    </tr>\n",
       "    <tr>\n",
       "      <th>1</th>\n",
       "      <td>3</td>\n",
       "      <td>2022-12-07 00:10:19</td>\n",
       "      <td>84.97</td>\n",
       "      <td>3</td>\n",
       "      <td>TRAN-10056</td>\n",
       "      <td>6</td>\n",
       "      <td>7</td>\n",
       "      <td>39.75</td>\n",
       "      <td>2ff9ce8d-1a97-4922-bec6-f5e79bb5b96f</td>\n",
       "      <td>2024-01-17 17:55:56.443000+00:00</td>\n",
       "      <td>2024-01-18 13:46:39.562241+00:00</td>\n",
       "      <td>2ab4fb3c40de95726d78f0f15c92787b</td>\n",
       "    </tr>\n",
       "    <tr>\n",
       "      <th>2</th>\n",
       "      <td>5</td>\n",
       "      <td>2022-04-01 16:32:51</td>\n",
       "      <td>52.56</td>\n",
       "      <td>2</td>\n",
       "      <td>TRAN-100676</td>\n",
       "      <td>1</td>\n",
       "      <td>5</td>\n",
       "      <td>49.24</td>\n",
       "      <td>89088a66-b5c6-4cb1-9a14-07de9371dfcd</td>\n",
       "      <td>2024-01-17 17:55:56.443000+00:00</td>\n",
       "      <td>2024-01-18 13:46:39.562241+00:00</td>\n",
       "      <td>cb512b47547f81de8e0240631d5f170e</td>\n",
       "    </tr>\n",
       "    <tr>\n",
       "      <th>3</th>\n",
       "      <td>10</td>\n",
       "      <td>2022-02-11 00:00:00</td>\n",
       "      <td>7.20</td>\n",
       "      <td>4</td>\n",
       "      <td>TRAN-100709</td>\n",
       "      <td>4</td>\n",
       "      <td>10</td>\n",
       "      <td>7.27</td>\n",
       "      <td>35e3bd23-3769-41c7-a4fd-68964306f8c4</td>\n",
       "      <td>2024-01-17 17:55:56.443000+00:00</td>\n",
       "      <td>2024-01-18 13:46:39.562241+00:00</td>\n",
       "      <td>73d2750cdd65253459bce645d0194285</td>\n",
       "    </tr>\n",
       "    <tr>\n",
       "      <th>4</th>\n",
       "      <td>6</td>\n",
       "      <td>2022-03-11 00:00:00</td>\n",
       "      <td>71.11</td>\n",
       "      <td>1</td>\n",
       "      <td>TRAN-100726</td>\n",
       "      <td>4</td>\n",
       "      <td>3</td>\n",
       "      <td>12.51</td>\n",
       "      <td>5fb7edcf-0d6c-419a-8f55-e6807199debe</td>\n",
       "      <td>2024-01-17 17:55:56.443000+00:00</td>\n",
       "      <td>2024-01-18 13:46:39.562241+00:00</td>\n",
       "      <td>07ace6b03675148bb3a63768905ff6b7</td>\n",
       "    </tr>\n",
       "  </tbody>\n",
       "</table>\n",
       "</div>"
      ],
      "text/plain": [
       "   id_cliente      data_transacao  preco_venda  id_localizacao id_transacao  \\\n",
       "0           2 2022-09-20 00:00:00        87.31               1  TRAN-100174   \n",
       "1           3 2022-12-07 00:10:19        84.97               3   TRAN-10056   \n",
       "2           5 2022-04-01 16:32:51        52.56               2  TRAN-100676   \n",
       "3          10 2022-02-11 00:00:00         7.20               4  TRAN-100709   \n",
       "4           6 2022-03-11 00:00:00        71.11               1  TRAN-100726   \n",
       "\n",
       "   id_produto  quantidade  custo_produto  \\\n",
       "0           4           5          39.76   \n",
       "1           6           7          39.75   \n",
       "2           1           5          49.24   \n",
       "3           4          10           7.27   \n",
       "4           4           3          12.51   \n",
       "\n",
       "                         _airbyte_ab_id              _airbyte_emitted_at  \\\n",
       "0  26d599c0-d480-4647-a647-3cbb93d16efb 2024-01-17 17:55:56.443000+00:00   \n",
       "1  2ff9ce8d-1a97-4922-bec6-f5e79bb5b96f 2024-01-17 17:55:56.443000+00:00   \n",
       "2  89088a66-b5c6-4cb1-9a14-07de9371dfcd 2024-01-17 17:55:56.443000+00:00   \n",
       "3  35e3bd23-3769-41c7-a4fd-68964306f8c4 2024-01-17 17:55:56.443000+00:00   \n",
       "4  5fb7edcf-0d6c-419a-8f55-e6807199debe 2024-01-17 17:55:56.443000+00:00   \n",
       "\n",
       "            _airbyte_normalized_at      _airbyte_st_ft_vendas_hashid  \n",
       "0 2024-01-18 13:46:39.562241+00:00  279312499b27ff2a60d1f0aca4c08859  \n",
       "1 2024-01-18 13:46:39.562241+00:00  2ab4fb3c40de95726d78f0f15c92787b  \n",
       "2 2024-01-18 13:46:39.562241+00:00  cb512b47547f81de8e0240631d5f170e  \n",
       "3 2024-01-18 13:46:39.562241+00:00  73d2750cdd65253459bce645d0194285  \n",
       "4 2024-01-18 13:46:39.562241+00:00  07ace6b03675148bb3a63768905ff6b7  "
      ]
     },
     "execution_count": 2,
     "metadata": {},
     "output_type": "execute_result"
    }
   ],
   "source": [
    "import datetime\n",
    "\n",
    "import pandas as pd\n",
    "\n",
    "import great_expectations as gx\n",
    "import great_expectations.jupyter_ux\n",
    "from great_expectations.core.batch import BatchRequest\n",
    "from great_expectations.checkpoint import SimpleCheckpoint\n",
    "from great_expectations.exceptions import DataContextError\n",
    "\n",
    "context = gx.get_context()\n",
    "\n",
    "# Note that if you modify this batch request, you may save the new version as a .json file\n",
    "#  to pass in later via the --batch-request option\n",
    "batch_request = {'datasource_name': 'transacional', 'data_connector_name': 'default_inferred_data_connector_name', 'data_asset_name': 'staging.st_ft_vendas', 'limit': 1000}\n",
    "\n",
    "\n",
    "# Feel free to change the name of your suite here. Renaming this will not remove the other one.\n",
    "expectation_suite_name = \"ge_suite_st_ft_vendas\"\n",
    "try:\n",
    "    suite = context.get_expectation_suite(expectation_suite_name=expectation_suite_name)\n",
    "    print(f'Loaded ExpectationSuite \"{suite.expectation_suite_name}\" containing {len(suite.expectations)} expectations.')\n",
    "except DataContextError:\n",
    "    suite = context.add_expectation_suite(expectation_suite_name=expectation_suite_name)\n",
    "    print(f'Created ExpectationSuite \"{suite.expectation_suite_name}\".')\n",
    "\n",
    "\n",
    "validator = context.get_validator(\n",
    "    batch_request=BatchRequest(**batch_request),\n",
    "    expectation_suite_name=expectation_suite_name\n",
    ")\n",
    "column_names = [f'\"{column_name}\"' for column_name in validator.columns()]\n",
    "print(f\"Columns: {', '.join(column_names)}.\")\n",
    "validator.head(n_rows=5, fetch_all=False)"
   ]
  },
  {
   "cell_type": "markdown",
   "id": "dcabbcc8",
   "metadata": {},
   "source": [
    "## Create & Edit Expectations\n",
    "\n",
    "\n",
    "Add expectations by calling specific expectation methods on the `validator` object. They all begin with `.expect_` which makes autocompleting easy using tab.\n",
    "\n",
    "Because you selected interactive mode, you are now creating or editing an Expectation Suite with validator feedback from the sample batch of data that you specified (see `batch_request`).\n",
    "\n",
    "Note that if you select manual mode you may still create or edit an Expectation Suite directly, without feedback from the `validator`. See our documentation for more info and examples: [How to create a new Expectation Suite without a sample batch](https://docs.greatexpectations.io/docs/guides/expectations/how_to_create_and_edit_expectations_based_on_domain_knowledge_without_inspecting_data_directly).\n",
    "\n",
    "\n",
    "\n",
    "You can see all the available expectations in the **[expectation gallery](https://greatexpectations.io/expectations)**."
   ]
  },
  {
   "cell_type": "markdown",
   "id": "9eb8df36",
   "metadata": {},
   "source": [
    "### Table Expectation(s)"
   ]
  },
  {
   "cell_type": "code",
   "execution_count": 17,
   "id": "661f15a2-5a38-4a3d-be09-d7da08bee669",
   "metadata": {},
   "outputs": [
    {
     "data": {
      "application/vnd.jupyter.widget-view+json": {
       "model_id": "ae9e65ce6a1b4cf79e29e6139c6e0308",
       "version_major": 2,
       "version_minor": 0
      },
      "text/plain": [
       "Calculating Metrics:   0%|          | 0/3 [00:00<?, ?it/s]"
      ]
     },
     "metadata": {},
     "output_type": "display_data"
    },
    {
     "data": {
      "text/plain": [
       "{\n",
       "  \"success\": true,\n",
       "  \"result\": {\n",
       "    \"observed_value\": 12\n",
       "  },\n",
       "  \"meta\": {},\n",
       "  \"exception_info\": {\n",
       "    \"raised_exception\": false,\n",
       "    \"exception_traceback\": null,\n",
       "    \"exception_message\": null\n",
       "  }\n",
       "}"
      ]
     },
     "execution_count": 17,
     "metadata": {},
     "output_type": "execute_result"
    }
   ],
   "source": [
    "validator.expect_table_column_count_to_equal(value=12)"
   ]
  },
  {
   "cell_type": "markdown",
   "id": "251e22fa",
   "metadata": {},
   "source": [
    "### Column Expectation(s)"
   ]
  },
  {
   "cell_type": "code",
   "execution_count": 18,
   "id": "19c9e3a6-0bef-4516-b2ef-76e12dca1b6e",
   "metadata": {},
   "outputs": [
    {
     "data": {
      "application/vnd.jupyter.widget-view+json": {
       "model_id": "1f2ff09a002141a1908839fa71b2b47e",
       "version_major": 2,
       "version_minor": 0
      },
      "text/plain": [
       "Calculating Metrics:   0%|          | 0/8 [00:00<?, ?it/s]"
      ]
     },
     "metadata": {},
     "output_type": "display_data"
    },
    {
     "data": {
      "application/vnd.jupyter.widget-view+json": {
       "model_id": "e2d78be1d5cd488aa82b5762f907ef2e",
       "version_major": 2,
       "version_minor": 0
      },
      "text/plain": [
       "Calculating Metrics:   0%|          | 0/8 [00:00<?, ?it/s]"
      ]
     },
     "metadata": {},
     "output_type": "display_data"
    },
    {
     "data": {
      "application/vnd.jupyter.widget-view+json": {
       "model_id": "3c376acabbf84833bd561b30c43eb0f5",
       "version_major": 2,
       "version_minor": 0
      },
      "text/plain": [
       "Calculating Metrics:   0%|          | 0/8 [00:00<?, ?it/s]"
      ]
     },
     "metadata": {},
     "output_type": "display_data"
    },
    {
     "data": {
      "application/vnd.jupyter.widget-view+json": {
       "model_id": "d9d675c79c9b4eef83e8b2cc390b36c8",
       "version_major": 2,
       "version_minor": 0
      },
      "text/plain": [
       "Calculating Metrics:   0%|          | 0/8 [00:00<?, ?it/s]"
      ]
     },
     "metadata": {},
     "output_type": "display_data"
    },
    {
     "data": {
      "application/vnd.jupyter.widget-view+json": {
       "model_id": "f4bb39e988b640d3a3c41a6129cea0e8",
       "version_major": 2,
       "version_minor": 0
      },
      "text/plain": [
       "Calculating Metrics:   0%|          | 0/8 [00:00<?, ?it/s]"
      ]
     },
     "metadata": {},
     "output_type": "display_data"
    },
    {
     "data": {
      "application/vnd.jupyter.widget-view+json": {
       "model_id": "88502ee9cd134d14902fec4253130ad7",
       "version_major": 2,
       "version_minor": 0
      },
      "text/plain": [
       "Calculating Metrics:   0%|          | 0/8 [00:00<?, ?it/s]"
      ]
     },
     "metadata": {},
     "output_type": "display_data"
    },
    {
     "data": {
      "text/plain": [
       "{\n",
       "  \"success\": true,\n",
       "  \"result\": {\n",
       "    \"element_count\": 8000,\n",
       "    \"unexpected_count\": 0,\n",
       "    \"unexpected_percent\": 0.0,\n",
       "    \"partial_unexpected_list\": []\n",
       "  },\n",
       "  \"meta\": {},\n",
       "  \"exception_info\": {\n",
       "    \"raised_exception\": false,\n",
       "    \"exception_traceback\": null,\n",
       "    \"exception_message\": null\n",
       "  }\n",
       "}"
      ]
     },
     "execution_count": 18,
     "metadata": {},
     "output_type": "execute_result"
    }
   ],
   "source": [
    "validator.expect_column_values_to_not_be_null(column='id_cliente')\n",
    "validator.expect_column_values_to_not_be_null(column='data_transacao')\n",
    "validator.expect_column_values_to_not_be_null(column='id_localizacao')\n",
    "validator.expect_column_values_to_not_be_null(column='id_transacao')\n",
    "validator.expect_column_values_to_not_be_null(column='id_produto')\n",
    "validator.expect_column_values_to_not_be_null(column='preco_venda')"
   ]
  },
  {
   "cell_type": "code",
   "execution_count": 19,
   "id": "0e6ff96e-9a46-4768-becc-f47caeaf92f7",
   "metadata": {},
   "outputs": [
    {
     "data": {
      "application/vnd.jupyter.widget-view+json": {
       "model_id": "c2d727de66ed4c8284f2e9e743b60237",
       "version_major": 2,
       "version_minor": 0
      },
      "text/plain": [
       "Calculating Metrics:   0%|          | 0/8 [00:00<?, ?it/s]"
      ]
     },
     "metadata": {},
     "output_type": "display_data"
    },
    {
     "data": {
      "application/vnd.jupyter.widget-view+json": {
       "model_id": "ab27710354f64bac86d8a130cc5e872a",
       "version_major": 2,
       "version_minor": 0
      },
      "text/plain": [
       "Calculating Metrics:   0%|          | 0/6 [00:00<?, ?it/s]"
      ]
     },
     "metadata": {},
     "output_type": "display_data"
    },
    {
     "data": {
      "application/vnd.jupyter.widget-view+json": {
       "model_id": "eb9a99a94f7441f09ebeee537274de4d",
       "version_major": 2,
       "version_minor": 0
      },
      "text/plain": [
       "Calculating Metrics:   0%|          | 0/11 [00:00<?, ?it/s]"
      ]
     },
     "metadata": {},
     "output_type": "display_data"
    },
    {
     "data": {
      "text/plain": [
       "{\n",
       "  \"success\": true,\n",
       "  \"result\": {\n",
       "    \"element_count\": 8000,\n",
       "    \"unexpected_count\": 0,\n",
       "    \"unexpected_percent\": 0.0,\n",
       "    \"partial_unexpected_list\": [],\n",
       "    \"missing_count\": 0,\n",
       "    \"missing_percent\": 0.0,\n",
       "    \"unexpected_percent_total\": 0.0,\n",
       "    \"unexpected_percent_nonmissing\": 0.0\n",
       "  },\n",
       "  \"meta\": {},\n",
       "  \"exception_info\": {\n",
       "    \"raised_exception\": false,\n",
       "    \"exception_traceback\": null,\n",
       "    \"exception_message\": null\n",
       "  }\n",
       "}"
      ]
     },
     "execution_count": 19,
     "metadata": {},
     "output_type": "execute_result"
    }
   ],
   "source": [
    "validator.expect_column_values_to_not_be_null(column='quantidade')\n",
    "validator.expect_column_mean_to_be_between(column='quantidade', max_value=8, min_value=4)\n",
    "validator.expect_column_values_to_be_between(column='quantidade', max_value=20, min_value=1)"
   ]
  },
  {
   "cell_type": "code",
   "execution_count": 20,
   "id": "8ad3fc0b-b79d-498e-b0bf-2f66edb06e9f",
   "metadata": {},
   "outputs": [
    {
     "data": {
      "application/vnd.jupyter.widget-view+json": {
       "model_id": "617bf626a5a9474db8d959ab34ec1d89",
       "version_major": 2,
       "version_minor": 0
      },
      "text/plain": [
       "Calculating Metrics:   0%|          | 0/6 [00:00<?, ?it/s]"
      ]
     },
     "metadata": {},
     "output_type": "display_data"
    },
    {
     "data": {
      "application/vnd.jupyter.widget-view+json": {
       "model_id": "0dc7891431cf4654ae1c3d87bf3a1d57",
       "version_major": 2,
       "version_minor": 0
      },
      "text/plain": [
       "Calculating Metrics:   0%|          | 0/11 [00:00<?, ?it/s]"
      ]
     },
     "metadata": {},
     "output_type": "display_data"
    },
    {
     "data": {
      "application/vnd.jupyter.widget-view+json": {
       "model_id": "7dbadd6b765a4cbea0791c95418980d5",
       "version_major": 2,
       "version_minor": 0
      },
      "text/plain": [
       "Calculating Metrics:   0%|          | 0/6 [00:00<?, ?it/s]"
      ]
     },
     "metadata": {},
     "output_type": "display_data"
    },
    {
     "data": {
      "text/plain": [
       "{\n",
       "  \"success\": true,\n",
       "  \"result\": {\n",
       "    \"observed_value\": 50.67462375000044\n",
       "  },\n",
       "  \"meta\": {},\n",
       "  \"exception_info\": {\n",
       "    \"raised_exception\": false,\n",
       "    \"exception_traceback\": null,\n",
       "    \"exception_message\": null\n",
       "  }\n",
       "}"
      ]
     },
     "execution_count": 20,
     "metadata": {},
     "output_type": "execute_result"
    }
   ],
   "source": [
    "validator.expect_column_mean_to_be_between(column='preco_venda', max_value=55, min_value=45)\n",
    "validator.expect_column_values_to_be_between(column='preco_venda', max_value=120, min_value=1)\n",
    "validator.expect_column_mean_to_be_between(column='preco_venda', max_value=55, min_value=45)"
   ]
  },
  {
   "cell_type": "code",
   "execution_count": 21,
   "id": "0c1dbcce-3378-4fe2-add0-18db35525eeb",
   "metadata": {},
   "outputs": [
    {
     "data": {
      "application/vnd.jupyter.widget-view+json": {
       "model_id": "742441fa2f0a460dbda1d8c3b6a7a35b",
       "version_major": 2,
       "version_minor": 0
      },
      "text/plain": [
       "Calculating Metrics:   0%|          | 0/8 [00:00<?, ?it/s]"
      ]
     },
     "metadata": {},
     "output_type": "display_data"
    },
    {
     "data": {
      "application/vnd.jupyter.widget-view+json": {
       "model_id": "8c95cdc618a34d24af3fa07f86dbfbdc",
       "version_major": 2,
       "version_minor": 0
      },
      "text/plain": [
       "Calculating Metrics:   0%|          | 0/11 [00:00<?, ?it/s]"
      ]
     },
     "metadata": {},
     "output_type": "display_data"
    },
    {
     "data": {
      "application/vnd.jupyter.widget-view+json": {
       "model_id": "a96fda2a623e41339c7ef6873a12b3cc",
       "version_major": 2,
       "version_minor": 0
      },
      "text/plain": [
       "Calculating Metrics:   0%|          | 0/6 [00:00<?, ?it/s]"
      ]
     },
     "metadata": {},
     "output_type": "display_data"
    },
    {
     "data": {
      "text/plain": [
       "{\n",
       "  \"success\": true,\n",
       "  \"result\": {\n",
       "    \"observed_value\": 25.977986249999816\n",
       "  },\n",
       "  \"meta\": {},\n",
       "  \"exception_info\": {\n",
       "    \"raised_exception\": false,\n",
       "    \"exception_traceback\": null,\n",
       "    \"exception_message\": null\n",
       "  }\n",
       "}"
      ]
     },
     "execution_count": 21,
     "metadata": {},
     "output_type": "execute_result"
    }
   ],
   "source": [
    "validator.expect_column_values_to_not_be_null(column='custo_produto')\n",
    "validator.expect_column_values_to_be_between(column='custo_produto', max_value=100, min_value=1)\n",
    "validator.expect_column_mean_to_be_between(column='custo_produto', max_value=30, min_value=20)"
   ]
  },
  {
   "cell_type": "markdown",
   "id": "a1ea4005",
   "metadata": {},
   "source": [
    "No column level expectations are in this suite. Feel free to add some here.\n",
    "\n",
    "They all begin with`validator.expect_column_...`.\n"
   ]
  },
  {
   "cell_type": "markdown",
   "id": "472398b7",
   "metadata": {},
   "source": [
    "## Review & Save Your Expectations\n",
    "\n",
    "Let's save the expectation suite as a JSON file in the `great_expectations/expectations` directory of your project.\n",
    "\n",
    "Let's now rebuild your Data Docs, which helps you communicate about your data with both machines and humans."
   ]
  },
  {
   "cell_type": "code",
   "execution_count": 22,
   "id": "9365ec78",
   "metadata": {},
   "outputs": [
    {
     "name": "stdout",
     "output_type": "stream",
     "text": [
      "2024-01-18T14:31:07+0000 - INFO - \t15 expectation(s) included in expectation_suite.\n",
      "{\n",
      "  \"expectation_suite_name\": \"ge_suite_st_ft_vendas\",\n",
      "  \"ge_cloud_id\": null,\n",
      "  \"expectations\": [\n",
      "    {\n",
      "      \"expectation_type\": \"expect_table_column_count_to_equal\",\n",
      "      \"kwargs\": {\n",
      "        \"value\": 12\n",
      "      },\n",
      "      \"meta\": {}\n",
      "    },\n",
      "    {\n",
      "      \"expectation_type\": \"expect_column_values_to_not_be_null\",\n",
      "      \"kwargs\": {\n",
      "        \"column\": \"id_cliente\"\n",
      "      },\n",
      "      \"meta\": {}\n",
      "    },\n",
      "    {\n",
      "      \"expectation_type\": \"expect_column_values_to_not_be_null\",\n",
      "      \"kwargs\": {\n",
      "        \"column\": \"data_transacao\"\n",
      "      },\n",
      "      \"meta\": {}\n",
      "    },\n",
      "    {\n",
      "      \"expectation_type\": \"expect_column_values_to_not_be_null\",\n",
      "      \"kwargs\": {\n",
      "        \"column\": \"id_localizacao\"\n",
      "      },\n",
      "      \"meta\": {}\n",
      "    },\n",
      "    {\n",
      "      \"expectation_type\": \"expect_column_values_to_not_be_null\",\n",
      "      \"kwargs\": {\n",
      "        \"column\": \"id_transacao\"\n",
      "      },\n",
      "      \"meta\": {}\n",
      "    },\n",
      "    {\n",
      "      \"expectation_type\": \"expect_column_values_to_not_be_null\",\n",
      "      \"kwargs\": {\n",
      "        \"column\": \"id_produto\"\n",
      "      },\n",
      "      \"meta\": {}\n",
      "    },\n",
      "    {\n",
      "      \"expectation_type\": \"expect_column_values_to_not_be_null\",\n",
      "      \"kwargs\": {\n",
      "        \"column\": \"preco_venda\"\n",
      "      },\n",
      "      \"meta\": {}\n",
      "    },\n",
      "    {\n",
      "      \"expectation_type\": \"expect_column_mean_to_be_between\",\n",
      "      \"kwargs\": {\n",
      "        \"column\": \"preco_venda\",\n",
      "        \"max_value\": 55,\n",
      "        \"min_value\": 45\n",
      "      },\n",
      "      \"meta\": {}\n",
      "    },\n",
      "    {\n",
      "      \"expectation_type\": \"expect_column_values_to_be_between\",\n",
      "      \"kwargs\": {\n",
      "        \"column\": \"preco_venda\",\n",
      "        \"max_value\": 120,\n",
      "        \"min_value\": 1\n",
      "      },\n",
      "      \"meta\": {}\n",
      "    },\n",
      "    {\n",
      "      \"expectation_type\": \"expect_column_values_to_not_be_null\",\n",
      "      \"kwargs\": {\n",
      "        \"column\": \"quantidade\"\n",
      "      },\n",
      "      \"meta\": {}\n",
      "    },\n",
      "    {\n",
      "      \"expectation_type\": \"expect_column_mean_to_be_between\",\n",
      "      \"kwargs\": {\n",
      "        \"column\": \"quantidade\",\n",
      "        \"max_value\": 8,\n",
      "        \"min_value\": 4\n",
      "      },\n",
      "      \"meta\": {}\n",
      "    },\n",
      "    {\n",
      "      \"expectation_type\": \"expect_column_values_to_be_between\",\n",
      "      \"kwargs\": {\n",
      "        \"column\": \"quantidade\",\n",
      "        \"max_value\": 20,\n",
      "        \"min_value\": 1\n",
      "      },\n",
      "      \"meta\": {}\n",
      "    },\n",
      "    {\n",
      "      \"expectation_type\": \"expect_column_values_to_not_be_null\",\n",
      "      \"kwargs\": {\n",
      "        \"column\": \"custo_produto\"\n",
      "      },\n",
      "      \"meta\": {}\n",
      "    },\n",
      "    {\n",
      "      \"expectation_type\": \"expect_column_values_to_be_between\",\n",
      "      \"kwargs\": {\n",
      "        \"column\": \"custo_produto\",\n",
      "        \"max_value\": 100,\n",
      "        \"min_value\": 1\n",
      "      },\n",
      "      \"meta\": {}\n",
      "    },\n",
      "    {\n",
      "      \"expectation_type\": \"expect_column_mean_to_be_between\",\n",
      "      \"kwargs\": {\n",
      "        \"column\": \"custo_produto\",\n",
      "        \"max_value\": 30,\n",
      "        \"min_value\": 20\n",
      "      },\n",
      "      \"meta\": {}\n",
      "    }\n",
      "  ],\n",
      "  \"data_asset_type\": null,\n",
      "  \"meta\": {\n",
      "    \"citations\": [\n",
      "      {\n",
      "        \"batch_request\": {\n",
      "          \"data_asset_name\": \"staging.st_ft_vendas\",\n",
      "          \"data_connector_name\": \"default_inferred_data_connector_name\",\n",
      "          \"datasource_name\": \"transacional\",\n",
      "          \"limit\": 1000\n",
      "        },\n",
      "        \"citation_date\": \"2024-01-18T14:13:10.728319Z\",\n",
      "        \"comment\": \"Created suite added via CLI\"\n",
      "      }\n",
      "    ],\n",
      "    \"great_expectations_version\": \"0.18.8\"\n",
      "  }\n",
      "}\n",
      "2024-01-18T14:31:07+0000 - INFO - \t15 expectation(s) included in expectation_suite.\n",
      "2024-01-18T14:31:07+0000 - INFO - \t15 expectation(s) included in expectation_suite.\n"
     ]
    },
    {
     "data": {
      "application/vnd.jupyter.widget-view+json": {
       "model_id": "844f13fd21bf465dbd7a28c89fe5cb67",
       "version_major": 2,
       "version_minor": 0
      },
      "text/plain": [
       "Calculating Metrics:   0%|          | 0/77 [00:00<?, ?it/s]"
      ]
     },
     "metadata": {},
     "output_type": "display_data"
    }
   ],
   "source": [
    "print(validator.get_expectation_suite(discard_failed_expectations=False))\n",
    "validator.save_expectation_suite(discard_failed_expectations=False)\n",
    "\n",
    "checkpoint_config = {\n",
    "    \"class_name\": \"SimpleCheckpoint\",\n",
    "    \"validations\": [\n",
    "        {\n",
    "            \"batch_request\": batch_request,\n",
    "            \"expectation_suite_name\": expectation_suite_name\n",
    "        }\n",
    "    ]\n",
    "}\n",
    "checkpoint = SimpleCheckpoint(\n",
    "    f\"{validator.active_batch_definition.data_asset_name}_{expectation_suite_name}\",\n",
    "    context,\n",
    "    **checkpoint_config\n",
    ")\n",
    "checkpoint_result = checkpoint.run()\n",
    "\n",
    "context.build_data_docs()\n",
    "\n",
    "validation_result_identifier = checkpoint_result.list_validation_result_identifiers()[0]\n",
    "context.open_data_docs(resource_identifier=validation_result_identifier)"
   ]
  },
  {
   "cell_type": "code",
   "execution_count": null,
   "id": "ad788b71-9099-4b2a-96a5-6cadcb50aed0",
   "metadata": {},
   "outputs": [],
   "source": []
  }
 ],
 "metadata": {
  "kernelspec": {
   "display_name": "Python 3 (ipykernel)",
   "language": "python",
   "name": "python3"
  },
  "language_info": {
   "codemirror_mode": {
    "name": "ipython",
    "version": 3
   },
   "file_extension": ".py",
   "mimetype": "text/x-python",
   "name": "python",
   "nbconvert_exporter": "python",
   "pygments_lexer": "ipython3",
   "version": "3.11.7"
  }
 },
 "nbformat": 4,
 "nbformat_minor": 5
}
